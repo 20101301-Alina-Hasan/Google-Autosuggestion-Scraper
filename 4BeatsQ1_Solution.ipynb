{
 "cells": [
  {
   "cell_type": "code",
   "execution_count": 167,
   "metadata": {},
   "outputs": [],
   "source": [
    "import pandas as pd"
   ]
  },
  {
   "cell_type": "code",
   "execution_count": 168,
   "metadata": {},
   "outputs": [],
   "source": [
    "sheets = pd.read_excel(\"4BeatsQ1.xlsx\", sheet_name=None)  # Read all sheets"
   ]
  },
  {
   "cell_type": "code",
   "execution_count": 169,
   "metadata": {},
   "outputs": [],
   "source": [
    "from datetime import datetime"
   ]
  },
  {
   "cell_type": "code",
   "execution_count": 170,
   "metadata": {},
   "outputs": [],
   "source": [
    "sheet = datetime.now().strftime('%A')  # Returns full day name (e.g. 'Friday') "
   ]
  },
  {
   "cell_type": "code",
   "execution_count": 241,
   "metadata": {},
   "outputs": [],
   "source": [
    "# sheet = 'Sunday'\n",
    "# sheet ='Monday'\n",
    "# sheet ='Tuesday'\n",
    "# sheet ='Wednesday'\n",
    "# sheet ='Thursday'\n",
    "# sheet ='Friday'\n",
    "# sheet ='Saturday'"
   ]
  },
  {
   "cell_type": "code",
   "execution_count": 171,
   "metadata": {},
   "outputs": [
    {
     "data": {
      "text/plain": [
       "'Friday'"
      ]
     },
     "execution_count": 171,
     "metadata": {},
     "output_type": "execute_result"
    }
   ],
   "source": [
    "sheet"
   ]
  },
  {
   "cell_type": "code",
   "execution_count": 242,
   "metadata": {},
   "outputs": [],
   "source": [
    "df = sheets[sheet]"
   ]
  },
  {
   "cell_type": "code",
   "execution_count": 243,
   "metadata": {},
   "outputs": [
    {
     "data": {
      "text/html": [
       "<div>\n",
       "<style scoped>\n",
       "    .dataframe tbody tr th:only-of-type {\n",
       "        vertical-align: middle;\n",
       "    }\n",
       "\n",
       "    .dataframe tbody tr th {\n",
       "        vertical-align: top;\n",
       "    }\n",
       "\n",
       "    .dataframe thead th {\n",
       "        text-align: right;\n",
       "    }\n",
       "</style>\n",
       "<table border=\"1\" class=\"dataframe\">\n",
       "  <thead>\n",
       "    <tr style=\"text-align: right;\">\n",
       "      <th></th>\n",
       "      <th>Unnamed: 0</th>\n",
       "      <th>Unnamed: 1</th>\n",
       "      <th>Unnamed: 2</th>\n",
       "      <th>Unnamed: 3</th>\n",
       "      <th>Unnamed: 4</th>\n",
       "    </tr>\n",
       "  </thead>\n",
       "  <tbody>\n",
       "    <tr>\n",
       "      <th>0</th>\n",
       "      <td>NaN</td>\n",
       "      <td>NaN</td>\n",
       "      <td>NaN</td>\n",
       "      <td>Longest Option</td>\n",
       "      <td>Shortest\\nOption</td>\n",
       "    </tr>\n",
       "    <tr>\n",
       "      <th>1</th>\n",
       "      <td>NaN</td>\n",
       "      <td>Keyword1</td>\n",
       "      <td>Dhaka</td>\n",
       "      <td>NaN</td>\n",
       "      <td>NaN</td>\n",
       "    </tr>\n",
       "    <tr>\n",
       "      <th>2</th>\n",
       "      <td>NaN</td>\n",
       "      <td>Keyword2</td>\n",
       "      <td>Saturday</td>\n",
       "      <td>NaN</td>\n",
       "      <td>NaN</td>\n",
       "    </tr>\n",
       "    <tr>\n",
       "      <th>3</th>\n",
       "      <td>NaN</td>\n",
       "      <td>Keyword3</td>\n",
       "      <td>Baby</td>\n",
       "      <td>NaN</td>\n",
       "      <td>NaN</td>\n",
       "    </tr>\n",
       "    <tr>\n",
       "      <th>4</th>\n",
       "      <td>NaN</td>\n",
       "      <td>Keyword4</td>\n",
       "      <td>School</td>\n",
       "      <td>NaN</td>\n",
       "      <td>NaN</td>\n",
       "    </tr>\n",
       "    <tr>\n",
       "      <th>5</th>\n",
       "      <td>NaN</td>\n",
       "      <td>Keyword5</td>\n",
       "      <td>Cricket</td>\n",
       "      <td>NaN</td>\n",
       "      <td>NaN</td>\n",
       "    </tr>\n",
       "    <tr>\n",
       "      <th>6</th>\n",
       "      <td>NaN</td>\n",
       "      <td>Keyword6</td>\n",
       "      <td>Momey</td>\n",
       "      <td>NaN</td>\n",
       "      <td>NaN</td>\n",
       "    </tr>\n",
       "    <tr>\n",
       "      <th>7</th>\n",
       "      <td>NaN</td>\n",
       "      <td>Keyword7</td>\n",
       "      <td>Int</td>\n",
       "      <td>NaN</td>\n",
       "      <td>NaN</td>\n",
       "    </tr>\n",
       "    <tr>\n",
       "      <th>8</th>\n",
       "      <td>NaN</td>\n",
       "      <td>Keyword8</td>\n",
       "      <td>Look</td>\n",
       "      <td>NaN</td>\n",
       "      <td>NaN</td>\n",
       "    </tr>\n",
       "    <tr>\n",
       "      <th>9</th>\n",
       "      <td>NaN</td>\n",
       "      <td>Keyword9</td>\n",
       "      <td>Hello</td>\n",
       "      <td>NaN</td>\n",
       "      <td>NaN</td>\n",
       "    </tr>\n",
       "    <tr>\n",
       "      <th>10</th>\n",
       "      <td>NaN</td>\n",
       "      <td>Keyword10</td>\n",
       "      <td>By</td>\n",
       "      <td>NaN</td>\n",
       "      <td>NaN</td>\n",
       "    </tr>\n",
       "  </tbody>\n",
       "</table>\n",
       "</div>"
      ],
      "text/plain": [
       "    Unnamed: 0 Unnamed: 1 Unnamed: 2      Unnamed: 3        Unnamed: 4\n",
       "0          NaN        NaN        NaN  Longest Option  Shortest\\nOption\n",
       "1          NaN   Keyword1      Dhaka             NaN               NaN\n",
       "2          NaN   Keyword2   Saturday             NaN               NaN\n",
       "3          NaN   Keyword3       Baby             NaN               NaN\n",
       "4          NaN   Keyword4     School             NaN               NaN\n",
       "5          NaN   Keyword5    Cricket             NaN               NaN\n",
       "6          NaN   Keyword6      Momey             NaN               NaN\n",
       "7          NaN   Keyword7        Int             NaN               NaN\n",
       "8          NaN   Keyword8       Look             NaN               NaN\n",
       "9          NaN   Keyword9      Hello             NaN               NaN\n",
       "10         NaN  Keyword10         By             NaN               NaN"
      ]
     },
     "execution_count": 243,
     "metadata": {},
     "output_type": "execute_result"
    }
   ],
   "source": [
    "df"
   ]
  },
  {
   "cell_type": "code",
   "execution_count": 244,
   "metadata": {},
   "outputs": [],
   "source": [
    "df = df.drop(columns=['Unnamed: 0'])  # Drop column where all elements are NaN\n",
    "df.columns = ['Keyword', 'Value', 'Longest Option', 'Shortest Option']  # Label columns for better readability"
   ]
  },
  {
   "cell_type": "code",
   "execution_count": 245,
   "metadata": {},
   "outputs": [],
   "source": [
    "# Check if \"Keyword\" is present in the first row (For sheets like Tuesday)\n",
    "if not any(cell.startswith('Keyword') for cell in df.iloc[0].astype(str).values):\n",
    "    df = df.drop(df.index[0])  # Remove row with partial/old labels"
   ]
  },
  {
   "cell_type": "code",
   "execution_count": 246,
   "metadata": {},
   "outputs": [],
   "source": [
    "# Reset index of the DataFrame to ensure the indices align\n",
    "df.reset_index(drop=True, inplace=True)"
   ]
  },
  {
   "cell_type": "code",
   "execution_count": 247,
   "metadata": {},
   "outputs": [
    {
     "data": {
      "text/html": [
       "<div>\n",
       "<style scoped>\n",
       "    .dataframe tbody tr th:only-of-type {\n",
       "        vertical-align: middle;\n",
       "    }\n",
       "\n",
       "    .dataframe tbody tr th {\n",
       "        vertical-align: top;\n",
       "    }\n",
       "\n",
       "    .dataframe thead th {\n",
       "        text-align: right;\n",
       "    }\n",
       "</style>\n",
       "<table border=\"1\" class=\"dataframe\">\n",
       "  <thead>\n",
       "    <tr style=\"text-align: right;\">\n",
       "      <th></th>\n",
       "      <th>Keyword</th>\n",
       "      <th>Value</th>\n",
       "      <th>Longest Option</th>\n",
       "      <th>Shortest Option</th>\n",
       "    </tr>\n",
       "  </thead>\n",
       "  <tbody>\n",
       "    <tr>\n",
       "      <th>0</th>\n",
       "      <td>Keyword1</td>\n",
       "      <td>Dhaka</td>\n",
       "      <td>NaN</td>\n",
       "      <td>NaN</td>\n",
       "    </tr>\n",
       "    <tr>\n",
       "      <th>1</th>\n",
       "      <td>Keyword2</td>\n",
       "      <td>Saturday</td>\n",
       "      <td>NaN</td>\n",
       "      <td>NaN</td>\n",
       "    </tr>\n",
       "    <tr>\n",
       "      <th>2</th>\n",
       "      <td>Keyword3</td>\n",
       "      <td>Baby</td>\n",
       "      <td>NaN</td>\n",
       "      <td>NaN</td>\n",
       "    </tr>\n",
       "    <tr>\n",
       "      <th>3</th>\n",
       "      <td>Keyword4</td>\n",
       "      <td>School</td>\n",
       "      <td>NaN</td>\n",
       "      <td>NaN</td>\n",
       "    </tr>\n",
       "    <tr>\n",
       "      <th>4</th>\n",
       "      <td>Keyword5</td>\n",
       "      <td>Cricket</td>\n",
       "      <td>NaN</td>\n",
       "      <td>NaN</td>\n",
       "    </tr>\n",
       "    <tr>\n",
       "      <th>5</th>\n",
       "      <td>Keyword6</td>\n",
       "      <td>Momey</td>\n",
       "      <td>NaN</td>\n",
       "      <td>NaN</td>\n",
       "    </tr>\n",
       "    <tr>\n",
       "      <th>6</th>\n",
       "      <td>Keyword7</td>\n",
       "      <td>Int</td>\n",
       "      <td>NaN</td>\n",
       "      <td>NaN</td>\n",
       "    </tr>\n",
       "    <tr>\n",
       "      <th>7</th>\n",
       "      <td>Keyword8</td>\n",
       "      <td>Look</td>\n",
       "      <td>NaN</td>\n",
       "      <td>NaN</td>\n",
       "    </tr>\n",
       "    <tr>\n",
       "      <th>8</th>\n",
       "      <td>Keyword9</td>\n",
       "      <td>Hello</td>\n",
       "      <td>NaN</td>\n",
       "      <td>NaN</td>\n",
       "    </tr>\n",
       "    <tr>\n",
       "      <th>9</th>\n",
       "      <td>Keyword10</td>\n",
       "      <td>By</td>\n",
       "      <td>NaN</td>\n",
       "      <td>NaN</td>\n",
       "    </tr>\n",
       "  </tbody>\n",
       "</table>\n",
       "</div>"
      ],
      "text/plain": [
       "     Keyword     Value Longest Option Shortest Option\n",
       "0   Keyword1     Dhaka            NaN             NaN\n",
       "1   Keyword2  Saturday            NaN             NaN\n",
       "2   Keyword3      Baby            NaN             NaN\n",
       "3   Keyword4    School            NaN             NaN\n",
       "4   Keyword5   Cricket            NaN             NaN\n",
       "5   Keyword6     Momey            NaN             NaN\n",
       "6   Keyword7       Int            NaN             NaN\n",
       "7   Keyword8      Look            NaN             NaN\n",
       "8   Keyword9     Hello            NaN             NaN\n",
       "9  Keyword10        By            NaN             NaN"
      ]
     },
     "execution_count": 247,
     "metadata": {},
     "output_type": "execute_result"
    }
   ],
   "source": [
    "df"
   ]
  },
  {
   "cell_type": "code",
   "execution_count": 248,
   "metadata": {},
   "outputs": [],
   "source": [
    "keywords = df['Value'].dropna().tolist()"
   ]
  },
  {
   "cell_type": "code",
   "execution_count": 249,
   "metadata": {},
   "outputs": [
    {
     "data": {
      "text/plain": [
       "['Dhaka',\n",
       " 'Saturday',\n",
       " 'Baby',\n",
       " 'School',\n",
       " 'Cricket',\n",
       " 'Momey',\n",
       " 'Int',\n",
       " 'Look',\n",
       " 'Hello',\n",
       " 'By']"
      ]
     },
     "execution_count": 249,
     "metadata": {},
     "output_type": "execute_result"
    }
   ],
   "source": [
    "keywords"
   ]
  },
  {
   "cell_type": "code",
   "execution_count": 250,
   "metadata": {},
   "outputs": [],
   "source": [
    "from selenium import webdriver\n",
    "from selenium.webdriver.common.by import By\n",
    "from selenium.webdriver.common.keys import Keys"
   ]
  },
  {
   "cell_type": "code",
   "execution_count": 251,
   "metadata": {},
   "outputs": [],
   "source": [
    "import time"
   ]
  },
  {
   "cell_type": "code",
   "execution_count": 252,
   "metadata": {},
   "outputs": [],
   "source": [
    "def get_auto_suggestions(browser):\n",
    "    elements = browser.find_elements(By.XPATH, '//*[@id=\"Alh6id\"]/div[1]/div/ul/li')\n",
    "    suggestions = [elem.text for elem in elements if elem.text]\n",
    "    return suggestions"
   ]
  },
  {
   "cell_type": "markdown",
   "metadata": {},
   "source": [
    "**Program assumes Firefox is installed and geckodriver is in the same directory**"
   ]
  },
  {
   "cell_type": "code",
   "execution_count": 253,
   "metadata": {},
   "outputs": [],
   "source": [
    "browser = webdriver.Firefox() \n",
    "browser.maximize_window()  \n",
    "browser.get('http://www.google.com')\n",
    "assert 'Google' in browser.title\n",
    "\n",
    "for index, keyword in enumerate(keywords):\n",
    "    elem = browser.find_element(By.NAME, 'q')  \n",
    "    elem.clear()  # Clear search box of any previous search keywords\n",
    "    elem.send_keys(keyword)  \n",
    "    \n",
    "    time.sleep(3)  # Allow autocomplete suggestions to load\n",
    "\n",
    "    suggestions_list = get_auto_suggestions(browser)\n",
    "    \n",
    "    if suggestions_list:\n",
    "        longest_option = max(suggestions_list, key=len)\n",
    "        shortest_option = min(suggestions_list, key=len)\n",
    "    else:\n",
    "        longest_option = shortest_option = ''\n",
    "    \n",
    "    df.at[index, 'Longest Option'] = longest_option\n",
    "    df.at[index, 'Shortest Option'] = shortest_option\n",
    "    \n",
    "    time.sleep(3)  # Wait a few seconds before the next search\n",
    "\n",
    "browser.close()"
   ]
  },
  {
   "cell_type": "code",
   "execution_count": 254,
   "metadata": {},
   "outputs": [
    {
     "data": {
      "text/html": [
       "<div>\n",
       "<style scoped>\n",
       "    .dataframe tbody tr th:only-of-type {\n",
       "        vertical-align: middle;\n",
       "    }\n",
       "\n",
       "    .dataframe tbody tr th {\n",
       "        vertical-align: top;\n",
       "    }\n",
       "\n",
       "    .dataframe thead th {\n",
       "        text-align: right;\n",
       "    }\n",
       "</style>\n",
       "<table border=\"1\" class=\"dataframe\">\n",
       "  <thead>\n",
       "    <tr style=\"text-align: right;\">\n",
       "      <th></th>\n",
       "      <th>Keyword</th>\n",
       "      <th>Value</th>\n",
       "      <th>Longest Option</th>\n",
       "      <th>Shortest Option</th>\n",
       "    </tr>\n",
       "  </thead>\n",
       "  <tbody>\n",
       "    <tr>\n",
       "      <th>0</th>\n",
       "      <td>Keyword1</td>\n",
       "      <td>Dhaka</td>\n",
       "      <td>ঢাকা শিক্ষা বোর্ড\\nমাধ্যমিক ও উচ্চমাধ্যমিক শিক...</td>\n",
       "      <td>ঢাকা পোস্ট</td>\n",
       "    </tr>\n",
       "    <tr>\n",
       "      <th>1</th>\n",
       "      <td>Keyword2</td>\n",
       "      <td>Saturday</td>\n",
       "      <td>Saturday Night Live\\nস্যাটারডে নাইট লাইভ — টিভ...</td>\n",
       "      <td>saturday</td>\n",
       "    </tr>\n",
       "    <tr>\n",
       "      <th>2</th>\n",
       "      <td>Keyword3</td>\n",
       "      <td>Baby</td>\n",
       "      <td>BABY DRIVER\\nবেবি ড্রাইভার — ২০১৭ সালের চলচ্চিত্র</td>\n",
       "      <td>baby pic</td>\n",
       "    </tr>\n",
       "    <tr>\n",
       "      <th>3</th>\n",
       "      <td>Keyword4</td>\n",
       "      <td>School</td>\n",
       "      <td>School 2017\\nটিভি প্রোগ্রাম</td>\n",
       "      <td>school</td>\n",
       "    </tr>\n",
       "    <tr>\n",
       "      <th>4</th>\n",
       "      <td>Keyword5</td>\n",
       "      <td>Cricket</td>\n",
       "      <td>cricket world cup\\nআইসিসি পুরুষ টি২০ বিশ্বকাপ ...</td>\n",
       "      <td>cricket</td>\n",
       "    </tr>\n",
       "    <tr>\n",
       "      <th>5</th>\n",
       "      <td>Keyword6</td>\n",
       "      <td>Momey</td>\n",
       "      <td>money cannot bring happiness story</td>\n",
       "      <td>money</td>\n",
       "    </tr>\n",
       "    <tr>\n",
       "      <th>6</th>\n",
       "      <td>Keyword7</td>\n",
       "      <td>Int</td>\n",
       "      <td>Inter Miami\\nইন্টার মায়ামি সিএফ — ফুটবল টীম</td>\n",
       "      <td>ইন্টারনেট</td>\n",
       "    </tr>\n",
       "    <tr>\n",
       "      <th>7</th>\n",
       "      <td>Keyword8</td>\n",
       "      <td>Look</td>\n",
       "      <td>lookism\\nলুকিজম — কমিক বই ক্রম</td>\n",
       "      <td>look</td>\n",
       "    </tr>\n",
       "    <tr>\n",
       "      <th>8</th>\n",
       "      <td>Keyword9</td>\n",
       "      <td>Hello</td>\n",
       "      <td>Hello Hello! (Featuring the Super Simple Puppe...</td>\n",
       "      <td>hello kitty</td>\n",
       "    </tr>\n",
       "    <tr>\n",
       "      <th>9</th>\n",
       "      <td>Keyword10</td>\n",
       "      <td>By</td>\n",
       "      <td>ব্যক্তিত্ব নিয়ে উক্তি</td>\n",
       "      <td>ব্যাংক</td>\n",
       "    </tr>\n",
       "  </tbody>\n",
       "</table>\n",
       "</div>"
      ],
      "text/plain": [
       "     Keyword     Value                                     Longest Option  \\\n",
       "0   Keyword1     Dhaka  ঢাকা শিক্ষা বোর্ড\\nমাধ্যমিক ও উচ্চমাধ্যমিক শিক...   \n",
       "1   Keyword2  Saturday  Saturday Night Live\\nস্যাটারডে নাইট লাইভ — টিভ...   \n",
       "2   Keyword3      Baby  BABY DRIVER\\nবেবি ড্রাইভার — ২০১৭ সালের চলচ্চিত্র   \n",
       "3   Keyword4    School                        School 2017\\nটিভি প্রোগ্রাম   \n",
       "4   Keyword5   Cricket  cricket world cup\\nআইসিসি পুরুষ টি২০ বিশ্বকাপ ...   \n",
       "5   Keyword6     Momey                 money cannot bring happiness story   \n",
       "6   Keyword7       Int       Inter Miami\\nইন্টার মায়ামি সিএফ — ফুটবল টীম   \n",
       "7   Keyword8      Look                     lookism\\nলুকিজম — কমিক বই ক্রম   \n",
       "8   Keyword9     Hello  Hello Hello! (Featuring the Super Simple Puppe...   \n",
       "9  Keyword10        By                             ব্যক্তিত্ব নিয়ে উক্তি   \n",
       "\n",
       "  Shortest Option  \n",
       "0      ঢাকা পোস্ট  \n",
       "1        saturday  \n",
       "2        baby pic  \n",
       "3          school  \n",
       "4         cricket  \n",
       "5           money  \n",
       "6       ইন্টারনেট  \n",
       "7            look  \n",
       "8     hello kitty  \n",
       "9          ব্যাংক  "
      ]
     },
     "execution_count": 254,
     "metadata": {},
     "output_type": "execute_result"
    }
   ],
   "source": [
    "df"
   ]
  },
  {
   "cell_type": "code",
   "execution_count": 255,
   "metadata": {},
   "outputs": [],
   "source": [
    "import openpyxl"
   ]
  },
  {
   "cell_type": "code",
   "execution_count": 256,
   "metadata": {},
   "outputs": [],
   "source": [
    "# Update workbook with modified sheet\n",
    "sheets[sheet] = df\n",
    "\n",
    "with pd.ExcelWriter(\"4BeatsQ1.xlsx\", engine='openpyxl', mode='w') as f:\n",
    "    for sheet, content in sheets.items():\n",
    "        content.to_excel(f, sheet_name=sheet, index=False)"
   ]
  }
 ],
 "metadata": {
  "kernelspec": {
   "display_name": "Python 3",
   "language": "python",
   "name": "python3"
  },
  "language_info": {
   "codemirror_mode": {
    "name": "ipython",
    "version": 3
   },
   "file_extension": ".py",
   "mimetype": "text/x-python",
   "name": "python",
   "nbconvert_exporter": "python",
   "pygments_lexer": "ipython3",
   "version": "3.12.3"
  }
 },
 "nbformat": 4,
 "nbformat_minor": 2
}
